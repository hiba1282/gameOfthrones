{
 "cells": [
  {
   "cell_type": "markdown",
   "id": "10ce63ae",
   "metadata": {},
   "source": [
    "# Who is the Greatest Commander in the War of Five Kings?\n",
    "\n",
    "- By Chris Albon (@ChrisAlbon)\n",
    "- Date: December 8, 2014\n",
    "- Description: Find out who is the greatest commander in the The War of Five Kings.\n",
    "- Dataset: [Battles in the War of Five Kings](https://github.com/chrisalbon/war_of_the_five_kings_dataset)"
   ]
  },
  {
   "cell_type": "markdown",
   "id": "912dc7ee",
   "metadata": {},
   "source": [
    "## Preliminaries"
   ]
  },
  {
   "cell_type": "code",
   "execution_count": 1,
   "id": "3a4ed88d",
   "metadata": {},
   "outputs": [],
   "source": [
    "# Import required modules\n",
    "import pandas as pd\n",
    "import numpy as np\n",
    "\n",
    "# Set ipython's max row display\n",
    "pd.set_option('display.max_row', 1000)\n",
    "\n",
    "# Set iPython's max column width to 50\n",
    "pd.set_option('display.max_columns', 50)"
   ]
  },
  {
   "cell_type": "code",
   "execution_count": 2,
   "id": "25aba44c",
   "metadata": {},
   "outputs": [],
   "source": [
    "# Load the dataset\n",
    "df = pd.read_csv('5kings_battles_v1.csv')"
   ]
  },
  {
   "cell_type": "markdown",
   "id": "17e3d5fe",
   "metadata": {},
   "source": [
    "## Quick glance at the data"
   ]
  },
  {
   "cell_type": "code",
   "execution_count": 3,
   "id": "cada71d0",
   "metadata": {},
   "outputs": [
    {
     "data": {
      "text/html": [
       "<div>\n",
       "<style scoped>\n",
       "    .dataframe tbody tr th:only-of-type {\n",
       "        vertical-align: middle;\n",
       "    }\n",
       "\n",
       "    .dataframe tbody tr th {\n",
       "        vertical-align: top;\n",
       "    }\n",
       "\n",
       "    .dataframe thead th {\n",
       "        text-align: right;\n",
       "    }\n",
       "</style>\n",
       "<table border=\"1\" class=\"dataframe\">\n",
       "  <thead>\n",
       "    <tr style=\"text-align: right;\">\n",
       "      <th></th>\n",
       "      <th>name</th>\n",
       "      <th>year</th>\n",
       "      <th>battle_number</th>\n",
       "      <th>attacker_king</th>\n",
       "      <th>defender_king</th>\n",
       "      <th>attacker_1</th>\n",
       "      <th>attacker_2</th>\n",
       "      <th>attacker_3</th>\n",
       "      <th>attacker_4</th>\n",
       "      <th>defender_1</th>\n",
       "      <th>defender_2</th>\n",
       "      <th>defender_3</th>\n",
       "      <th>defender_4</th>\n",
       "      <th>attacker_outcome</th>\n",
       "      <th>battle_type</th>\n",
       "      <th>major_death</th>\n",
       "      <th>major_capture</th>\n",
       "      <th>attacker_size</th>\n",
       "      <th>defender_size</th>\n",
       "      <th>attacker_commander</th>\n",
       "      <th>defender_commander</th>\n",
       "      <th>summer</th>\n",
       "      <th>location</th>\n",
       "      <th>region</th>\n",
       "      <th>note</th>\n",
       "    </tr>\n",
       "  </thead>\n",
       "  <tbody>\n",
       "    <tr>\n",
       "      <th>0</th>\n",
       "      <td>Battle of the Golden Tooth</td>\n",
       "      <td>298</td>\n",
       "      <td>1</td>\n",
       "      <td>Joffrey/Tommen Baratheon</td>\n",
       "      <td>Robb Stark</td>\n",
       "      <td>Lannister</td>\n",
       "      <td>NaN</td>\n",
       "      <td>NaN</td>\n",
       "      <td>NaN</td>\n",
       "      <td>Tully</td>\n",
       "      <td>NaN</td>\n",
       "      <td>NaN</td>\n",
       "      <td>NaN</td>\n",
       "      <td>win</td>\n",
       "      <td>pitched battle</td>\n",
       "      <td>1.0</td>\n",
       "      <td>0.0</td>\n",
       "      <td>15000.0</td>\n",
       "      <td>4000.0</td>\n",
       "      <td>Jaime Lannister</td>\n",
       "      <td>Clement Piper, Vance</td>\n",
       "      <td>1.0</td>\n",
       "      <td>Golden Tooth</td>\n",
       "      <td>The Westerlands</td>\n",
       "      <td>NaN</td>\n",
       "    </tr>\n",
       "    <tr>\n",
       "      <th>1</th>\n",
       "      <td>Battle at the Mummer's Ford</td>\n",
       "      <td>298</td>\n",
       "      <td>2</td>\n",
       "      <td>Joffrey/Tommen Baratheon</td>\n",
       "      <td>Robb Stark</td>\n",
       "      <td>Lannister</td>\n",
       "      <td>NaN</td>\n",
       "      <td>NaN</td>\n",
       "      <td>NaN</td>\n",
       "      <td>Baratheon</td>\n",
       "      <td>NaN</td>\n",
       "      <td>NaN</td>\n",
       "      <td>NaN</td>\n",
       "      <td>win</td>\n",
       "      <td>ambush</td>\n",
       "      <td>1.0</td>\n",
       "      <td>0.0</td>\n",
       "      <td>NaN</td>\n",
       "      <td>120.0</td>\n",
       "      <td>Gregor Clegane</td>\n",
       "      <td>Beric Dondarrion</td>\n",
       "      <td>1.0</td>\n",
       "      <td>Mummer's Ford</td>\n",
       "      <td>The Riverlands</td>\n",
       "      <td>NaN</td>\n",
       "    </tr>\n",
       "    <tr>\n",
       "      <th>2</th>\n",
       "      <td>Battle of Riverrun</td>\n",
       "      <td>298</td>\n",
       "      <td>3</td>\n",
       "      <td>Joffrey/Tommen Baratheon</td>\n",
       "      <td>Robb Stark</td>\n",
       "      <td>Lannister</td>\n",
       "      <td>NaN</td>\n",
       "      <td>NaN</td>\n",
       "      <td>NaN</td>\n",
       "      <td>Tully</td>\n",
       "      <td>NaN</td>\n",
       "      <td>NaN</td>\n",
       "      <td>NaN</td>\n",
       "      <td>win</td>\n",
       "      <td>pitched battle</td>\n",
       "      <td>0.0</td>\n",
       "      <td>1.0</td>\n",
       "      <td>15000.0</td>\n",
       "      <td>10000.0</td>\n",
       "      <td>Jaime Lannister, Andros Brax</td>\n",
       "      <td>Edmure Tully, Tytos Blackwood</td>\n",
       "      <td>1.0</td>\n",
       "      <td>Riverrun</td>\n",
       "      <td>The Riverlands</td>\n",
       "      <td>NaN</td>\n",
       "    </tr>\n",
       "  </tbody>\n",
       "</table>\n",
       "</div>"
      ],
      "text/plain": [
       "                          name  year  battle_number             attacker_king  \\\n",
       "0   Battle of the Golden Tooth   298              1  Joffrey/Tommen Baratheon   \n",
       "1  Battle at the Mummer's Ford   298              2  Joffrey/Tommen Baratheon   \n",
       "2           Battle of Riverrun   298              3  Joffrey/Tommen Baratheon   \n",
       "\n",
       "  defender_king attacker_1 attacker_2 attacker_3 attacker_4 defender_1  \\\n",
       "0    Robb Stark  Lannister        NaN        NaN        NaN      Tully   \n",
       "1    Robb Stark  Lannister        NaN        NaN        NaN  Baratheon   \n",
       "2    Robb Stark  Lannister        NaN        NaN        NaN      Tully   \n",
       "\n",
       "  defender_2  defender_3  defender_4 attacker_outcome     battle_type  \\\n",
       "0        NaN         NaN         NaN              win  pitched battle   \n",
       "1        NaN         NaN         NaN              win          ambush   \n",
       "2        NaN         NaN         NaN              win  pitched battle   \n",
       "\n",
       "   major_death  major_capture  attacker_size  defender_size  \\\n",
       "0          1.0            0.0        15000.0         4000.0   \n",
       "1          1.0            0.0            NaN          120.0   \n",
       "2          0.0            1.0        15000.0        10000.0   \n",
       "\n",
       "             attacker_commander             defender_commander  summer  \\\n",
       "0               Jaime Lannister           Clement Piper, Vance     1.0   \n",
       "1                Gregor Clegane               Beric Dondarrion     1.0   \n",
       "2  Jaime Lannister, Andros Brax  Edmure Tully, Tytos Blackwood     1.0   \n",
       "\n",
       "        location           region note  \n",
       "0   Golden Tooth  The Westerlands  NaN  \n",
       "1  Mummer's Ford   The Riverlands  NaN  \n",
       "2       Riverrun   The Riverlands  NaN  "
      ]
     },
     "execution_count": 3,
     "metadata": {},
     "output_type": "execute_result"
    }
   ],
   "source": [
    "# View the top 3 rows\n",
    "df.head(3)"
   ]
  },
  {
   "cell_type": "markdown",
   "id": "841a8743",
   "metadata": {},
   "source": [
    "## Data wrangling"
   ]
  },
  {
   "cell_type": "code",
   "execution_count": 14,
   "id": "61b2f98f",
   "metadata": {},
   "outputs": [],
   "source": [
    "# Create a list of attacking commanders\n",
    "attacker_list = []\n",
    "\n",
    "# For each row in df.attacker_commander,\n",
    "for row in df['attacker_commander']:\n",
    "    # if the cell is a string,\n",
    "    if type(row) == str:\n",
    "        # split up the names by the comma, \n",
    "        #and attach it to attacker commander list,\n",
    "       attacker_list.append(row.split(','))\n",
    "    # otherwise,     \n",
    "    else:\n",
    "        # do nothing\n",
    "        continue\n",
    "\n",
    "# Create a list of defending commanders\n",
    "defender_list = []\n",
    "        \n",
    "# For each row in df.defender_commander,\n",
    "for row in df['defender_commander']:\n",
    "    # if the cell is a string,\n",
    "    if type(row) == str:\n",
    "        # split up the names by the comma, \n",
    "        #and attach it to defender commander list,\n",
    "       defender_list.append(row.split(','))\n",
    "    # otherwise\n",
    "    else:\n",
    "        # do nothing\n",
    "        defender_list.append('')"
   ]
  },
  {
   "cell_type": "code",
   "execution_count": 5,
   "id": "cc932726",
   "metadata": {},
   "outputs": [],
   "source": [
    "# Create a list of commanders\n",
    "commander = []\n",
    "\n",
    "# For each list in attacker_list,\n",
    "for row in attacker_list:\n",
    "    # and each list in that list\n",
    "    for element in row:\n",
    "        # strip of any leading blank space \n",
    "        # and append it to the commander list\n",
    "        commander.append(element.lstrip())\n",
    "\n",
    "# For each list in defender_list,\n",
    "for row in defender_list:\n",
    "    # and each list in that list\n",
    "    for element in row:\n",
    "        # strip of any leading blank space \n",
    "        # and append it to the commander list\n",
    "        commander.append(element.lstrip())"
   ]
  },
  {
   "cell_type": "code",
   "execution_count": 6,
   "id": "51a5eb0d",
   "metadata": {},
   "outputs": [
    {
     "data": {
      "text/plain": [
       "82"
      ]
     },
     "execution_count": 6,
     "metadata": {},
     "output_type": "execute_result"
    }
   ],
   "source": [
    "# Convert the commander list into a \n",
    "# set of unique names, and convert it to a list\n",
    "commanders = list(set(commander))\n",
    "\n",
    "# Display the total number of commanders in the list\n",
    "len(commanders)"
   ]
  },
  {
   "cell_type": "code",
   "execution_count": 7,
   "id": "c61d295b",
   "metadata": {},
   "outputs": [],
   "source": [
    "#  Count the number of times a commander successfully attacked\n",
    "\n",
    "# Create a list\n",
    "attack_win = []\n",
    "\n",
    "# for each commander:\n",
    "for row in commanders:\n",
    "    # create a score variable, then\n",
    "    score = 0\n",
    "    # go through each cell of attacker commander where the attacker wins:\n",
    "    for x in df['attacker_commander'][df['attacker_outcome'] == 'win']:\n",
    "        # if the cell is a string\n",
    "        if type(x) == str:\n",
    "            # and if the commander is in the cell\n",
    "            if row in x:\n",
    "                # add one to score\n",
    "                score = score + 1\n",
    "            # if not\n",
    "            else:\n",
    "                # add 0 to score\n",
    "                score = score + 0\n",
    "        # if the cell is not a string        \n",
    "        else:\n",
    "            # do nothing\n",
    "            continue\n",
    "    # append the score to the list\n",
    "    attack_win.append(score)"
   ]
  },
  {
   "cell_type": "code",
   "execution_count": 8,
   "id": "f712a38f",
   "metadata": {},
   "outputs": [],
   "source": [
    "#  Count the number of times a commander unsuccessfully attacked\n",
    "\n",
    "# Create a list\n",
    "attack_loss = []\n",
    "\n",
    "# for each commander:\n",
    "for row in commanders:\n",
    "    # create a score variable\n",
    "    score = 0\n",
    "    # go through each cell of attacker commander where the attacker loses:\n",
    "    for x in df['attacker_commander'][df['attacker_outcome'] == 'loss']:\n",
    "        # if the cell is a string\n",
    "        if type(x) == str:\n",
    "            # and if the commander is in the cell\n",
    "            if row in x:\n",
    "                # add one to score\n",
    "                score = score + 1\n",
    "            # if not\n",
    "            else:\n",
    "                # add 0 to score\n",
    "                score = score + 0\n",
    "        # if the cell is not a string        \n",
    "        else:\n",
    "            # do nothing\n",
    "            continue\n",
    "    # append the score to the list\n",
    "    attack_loss.append(score)"
   ]
  },
  {
   "cell_type": "code",
   "execution_count": 9,
   "id": "208def88",
   "metadata": {},
   "outputs": [],
   "source": [
    "#  Count the number of times a commander successfully defended\n",
    "\n",
    "# Create a list\n",
    "defend_win = []\n",
    "\n",
    "# for each commander:\n",
    "for row in commanders:\n",
    "    # create a score variable\n",
    "    score = 0\n",
    "    # go through each cell of defender commander where the attacker losses:\n",
    "    for x in df['defender_commander'][df['attacker_outcome'] == 'loss']:\n",
    "        # if the cell is a string\n",
    "        if type(x) == str:\n",
    "            # and if the commander is in the cell\n",
    "            if row in x:\n",
    "                # add one to score\n",
    "                score = score + 1\n",
    "            # if not\n",
    "            else:\n",
    "                # add 0 to score\n",
    "                score = score + 0\n",
    "        # if the cell is not a string        \n",
    "        else:\n",
    "            # do nothing\n",
    "            continue   \n",
    "    # append the score to the list\n",
    "    defend_win.append(score)"
   ]
  },
  {
   "cell_type": "code",
   "execution_count": 10,
   "id": "c8c28f71",
   "metadata": {},
   "outputs": [],
   "source": [
    "#  Count the number of times a commander unsuccessfully defended\n",
    "\n",
    "# Create a list\n",
    "defend_loss = []\n",
    "\n",
    "# for each commander:\n",
    "for row in commanders:\n",
    "    # create a score variable\n",
    "    score = 0\n",
    "    # go through each cell of defender commander where the attacker wins:\n",
    "    for x in df['defender_commander'][df['attacker_outcome'] == 'win']:\n",
    "        # if the cell is a string\n",
    "        if type(x) == str:\n",
    "            # and if the commander is in the cell\n",
    "            if row in x:\n",
    "                # add one to score\n",
    "                score = score + 1\n",
    "            # if not\n",
    "            else:\n",
    "                # add 0 to score\n",
    "                score = score + 0\n",
    "        # if the cell is not a string        \n",
    "        else:\n",
    "            # do nothing\n",
    "            continue\n",
    "    # append the score to the list\n",
    "    defend_loss.append(score)"
   ]
  },
  {
   "cell_type": "code",
   "execution_count": 11,
   "id": "0945f504",
   "metadata": {},
   "outputs": [],
   "source": [
    "# Create a dictionary of the four score lists\n",
    "columns = {'attack_win':  attack_win, \n",
    "           'attack_loss': attack_loss,\n",
    "           'defend_win': defend_win,\n",
    "           'defend_loss': attack_loss}\n",
    "\n",
    "# Create a dataframe from that dictionary, indexed by a commander's name\n",
    "battle_record = pd.DataFrame(columns, index=commanders)"
   ]
  },
  {
   "cell_type": "code",
   "execution_count": 12,
   "id": "3a4607da",
   "metadata": {},
   "outputs": [],
   "source": [
    "# Count the total attacks for for each commander\n",
    "battle_record['total_attacks'] = battle_record['attack_win'] + battle_record['attack_loss']\n",
    "\n",
    "# Count the total defends for for each commander\n",
    "battle_record['total_defends'] = battle_record['defend_win'] + battle_record['defend_loss']\n",
    "\n",
    "# Count the total wins for for each commander\n",
    "battle_record['total_wins'] = battle_record['attack_win'] + battle_record['defend_win']\n",
    "\n",
    "# Count the total losses for for each commander\n",
    "battle_record['total_loss'] = battle_record['attack_loss'] + battle_record['defend_loss']\n",
    "\n",
    "# Create a total number of battles for each commander\n",
    "battle_record['total_battles'] = battle_record['attack_win'] + battle_record['attack_loss'] + battle_record['defend_win'] + battle_record['defend_loss']\n",
    "\n",
    "# Create a win percentage score (total wins / total battles) for each commander\n",
    "battle_record['win_percentage'] = battle_record['total_wins'] / battle_record['total_battles'] * 100\n",
    "\n",
    "# Create a composite score (total number of wins minus total number of losses) for each commander\n",
    "battle_record['composite_record'] = (battle_record['attack_win'] + battle_record['defend_win']) - (battle_record['attack_loss'] + battle_record['defend_loss'])"
   ]
  },
  {
   "cell_type": "markdown",
   "id": "f5e89369",
   "metadata": {},
   "source": [
    "## Analysis"
   ]
  },
  {
   "cell_type": "code",
   "execution_count": 13,
   "id": "0c3a1eb4",
   "metadata": {},
   "outputs": [
    {
     "ename": "AttributeError",
     "evalue": "'DataFrame' object has no attribute 'sort'",
     "output_type": "error",
     "traceback": [
      "\u001b[0;31m---------------------------------------------------------------------------\u001b[0m",
      "\u001b[0;31mAttributeError\u001b[0m                            Traceback (most recent call last)",
      "Input \u001b[0;32mIn [13]\u001b[0m, in \u001b[0;36m<cell line: 2>\u001b[0;34m()\u001b[0m\n\u001b[1;32m      1\u001b[0m \u001b[38;5;66;03m# Top 10 Most Active Commanders\u001b[39;00m\n\u001b[0;32m----> 2\u001b[0m \u001b[43mbattle_record\u001b[49m\u001b[38;5;241;43m.\u001b[39;49m\u001b[43msort\u001b[49m(\u001b[38;5;124m'\u001b[39m\u001b[38;5;124mtotal_battles\u001b[39m\u001b[38;5;124m'\u001b[39m, ascending\u001b[38;5;241m=\u001b[39m\u001b[38;5;28;01mFalse\u001b[39;00m)\u001b[38;5;241m.\u001b[39mhead(\u001b[38;5;241m10\u001b[39m)[\u001b[38;5;124m'\u001b[39m\u001b[38;5;124mtotal_battles\u001b[39m\u001b[38;5;124m'\u001b[39m]\n",
      "File \u001b[0;32m~/opt/anaconda3/lib/python3.9/site-packages/pandas/core/generic.py:5575\u001b[0m, in \u001b[0;36mNDFrame.__getattr__\u001b[0;34m(self, name)\u001b[0m\n\u001b[1;32m   5568\u001b[0m \u001b[38;5;28;01mif\u001b[39;00m (\n\u001b[1;32m   5569\u001b[0m     name \u001b[38;5;129;01mnot\u001b[39;00m \u001b[38;5;129;01min\u001b[39;00m \u001b[38;5;28mself\u001b[39m\u001b[38;5;241m.\u001b[39m_internal_names_set\n\u001b[1;32m   5570\u001b[0m     \u001b[38;5;129;01mand\u001b[39;00m name \u001b[38;5;129;01mnot\u001b[39;00m \u001b[38;5;129;01min\u001b[39;00m \u001b[38;5;28mself\u001b[39m\u001b[38;5;241m.\u001b[39m_metadata\n\u001b[1;32m   5571\u001b[0m     \u001b[38;5;129;01mand\u001b[39;00m name \u001b[38;5;129;01mnot\u001b[39;00m \u001b[38;5;129;01min\u001b[39;00m \u001b[38;5;28mself\u001b[39m\u001b[38;5;241m.\u001b[39m_accessors\n\u001b[1;32m   5572\u001b[0m     \u001b[38;5;129;01mand\u001b[39;00m \u001b[38;5;28mself\u001b[39m\u001b[38;5;241m.\u001b[39m_info_axis\u001b[38;5;241m.\u001b[39m_can_hold_identifiers_and_holds_name(name)\n\u001b[1;32m   5573\u001b[0m ):\n\u001b[1;32m   5574\u001b[0m     \u001b[38;5;28;01mreturn\u001b[39;00m \u001b[38;5;28mself\u001b[39m[name]\n\u001b[0;32m-> 5575\u001b[0m \u001b[38;5;28;01mreturn\u001b[39;00m \u001b[38;5;28;43mobject\u001b[39;49m\u001b[38;5;241;43m.\u001b[39;49m\u001b[38;5;21;43m__getattribute__\u001b[39;49m\u001b[43m(\u001b[49m\u001b[38;5;28;43mself\u001b[39;49m\u001b[43m,\u001b[49m\u001b[43m \u001b[49m\u001b[43mname\u001b[49m\u001b[43m)\u001b[49m\n",
      "\u001b[0;31mAttributeError\u001b[0m: 'DataFrame' object has no attribute 'sort'"
     ]
    }
   ],
   "source": [
    "# Top 10 Most Active Commanders\n",
    "battle_record.sort('total_battles', ascending=False).head(10)['total_battles']"
   ]
  },
  {
   "cell_type": "code",
   "execution_count": null,
   "id": "81e8c452",
   "metadata": {},
   "outputs": [],
   "source": [
    "# Top 10 Most Active Attackers\n",
    "battle_record.sort('total_attacks', ascending=False).head(10)['total_attacks']"
   ]
  },
  {
   "cell_type": "code",
   "execution_count": null,
   "id": "23e5f38b",
   "metadata": {},
   "outputs": [],
   "source": [
    "# Top 10 Most Active Defenders\n",
    "battle_record.sort('total_defends', ascending=False).head(10)['total_defends']"
   ]
  },
  {
   "cell_type": "code",
   "execution_count": null,
   "id": "7e796684",
   "metadata": {},
   "outputs": [],
   "source": [
    "# Top 10 Most Victorious Commanders\n",
    "battle_record.sort('total_wins', ascending=False).head(10)['total_wins']"
   ]
  },
  {
   "cell_type": "code",
   "execution_count": null,
   "id": "614f1e79",
   "metadata": {},
   "outputs": [],
   "source": [
    "# Top 30 Most Losing Commanders\n",
    "battle_record.sort('total_loss', ascending=False).head(30)['total_loss']"
   ]
  },
  {
   "cell_type": "code",
   "execution_count": null,
   "id": "d14f58bc",
   "metadata": {},
   "outputs": [],
   "source": [
    "# Commanders With The Best Win Percentage\n",
    "battle_record.sort('win_percentage', ascending=False).head(75)['win_percentage'][battle_record['win_percentage'] != float('Inf')]"
   ]
  },
  {
   "cell_type": "code",
   "execution_count": null,
   "id": "fd6a1c8a",
   "metadata": {},
   "outputs": [],
   "source": [
    "# Top 10 Greatest Commanders\n",
    "battle_record.sort('composite_record', ascending=False).head(10)['composite_record']"
   ]
  },
  {
   "cell_type": "markdown",
   "id": "e39f33e5",
   "metadata": {},
   "source": [
    "## A little more data wrangling for the tie-breaker"
   ]
  },
  {
   "cell_type": "code",
   "execution_count": null,
   "id": "eebde4fa",
   "metadata": {},
   "outputs": [],
   "source": [
    "# Create a list with the defender/attacker \n",
    "# ratios for each battle Jaime Lannister fought\n",
    "jaime_ratio = []\n",
    "\n",
    "# Create a list with the defender/attacker \n",
    "# ratios for each battle Robb Stark fought\n",
    "robb_ratio = []\n",
    "\n",
    "# Create a list with the defender/attacker \n",
    "# ratios for each battle Gregor Clegane fought\n",
    "gregor_ratio = []\n",
    "\n",
    "# Create a count variable\n",
    "i = 0\n",
    "\n",
    "# For each row in df.attacker_commander where the attacker wins,\n",
    "for row in df['attacker_commander'][df['attacker_outcome'] == 'win']:\n",
    "        # if the row is a string (this means we skip np.nan's, which are floats)\n",
    "        if type(row) == str:\n",
    "            # if the row contains this name\n",
    "            if \"Jaime Lannister\" in row:\n",
    "                # divide the size of the defender's army with the size of the attacker's army\n",
    "                relative_size = df['defender_size'][i] / df['attacker_size'][i]\n",
    "                jaime_ratio.append(relative_size)\n",
    "            # if the row contains this name\n",
    "            elif \"Robb Stark\" in row:\n",
    "                # divide the size of the defender's army with the size of the attacker's army\n",
    "                relative_size = df['defender_size'][i] / df['attacker_size'][i]\n",
    "                robb_ratio.append(relative_size)\n",
    "            # if the row contains this name\n",
    "            elif \"Gregor Clegane\" in row:\n",
    "                # divide the size of the defender's army with the size of the attacker's army\n",
    "                relative_size = df['defender_size'][i] / df['attacker_size'][i]\n",
    "                gregor_ratio.append(relative_size)\n",
    "            # otherwise\n",
    "            else:\n",
    "                # do nothing\n",
    "                continue\n",
    "        \n",
    "        # and add 1 to the counter variable\n",
    "        i = i+1\n"
   ]
  },
  {
   "cell_type": "code",
   "execution_count": null,
   "id": "b9b1928c",
   "metadata": {},
   "outputs": [],
   "source": [
    "# Create an empty dataframe\n",
    "top3_ratio = pd.DataFrame()\n",
    "\n",
    "# Create three columns for the dataframe for each commander's ratios\n",
    "top3_ratio['jaime'] = jaime_ratio\n",
    "top3_ratio['robb'] = robb_ratio\n",
    "top3_ratio['gregor'] = gregor_ratio"
   ]
  },
  {
   "cell_type": "code",
   "execution_count": null,
   "id": "c1d1361a",
   "metadata": {},
   "outputs": [],
   "source": [
    "# Display the ratios of each commander's four battles\n",
    "top3_ratio"
   ]
  },
  {
   "cell_type": "markdown",
   "id": "9ba88326",
   "metadata": {},
   "source": [
    "## Tie-breaker results"
   ]
  },
  {
   "cell_type": "code",
   "execution_count": null,
   "id": "db8ec120",
   "metadata": {},
   "outputs": [],
   "source": [
    "# Print a plain English sentence that includes the mean ratio (rounded to two decimals)\n",
    "print('On average, Jaime Lannister successfully attacked when the enemy has', top3_ratio['jaime'].mean().round(2), 'soldiers for every one of his own.')\n",
    "\n",
    "# Print a plain English sentence that includes the mean ratio (rounded to two decimals)\n",
    "print('On average, Robb Stark successfully attacked when the enemy has', top3_ratio['robb'].mean().round(2), 'soldiers for every one of his own.')\n",
    "\n",
    "# Print a plain English sentence that includes the mean ratio (rounded to two decimals)\n",
    "print('On average, Gregor Clegane successfully attacked when the enemy has', top3_ratio['gregor'].mean().round(2), 'soldiers for every one of his own.')"
   ]
  },
  {
   "cell_type": "markdown",
   "id": "e812611c",
   "metadata": {},
   "source": [
    "### And the greatest commander is: Gregor Clegane"
   ]
  }
 ],
 "metadata": {
  "kernelspec": {
   "display_name": "Python 3 (ipykernel)",
   "language": "python",
   "name": "python3"
  },
  "language_info": {
   "codemirror_mode": {
    "name": "ipython",
    "version": 3
   },
   "file_extension": ".py",
   "mimetype": "text/x-python",
   "name": "python",
   "nbconvert_exporter": "python",
   "pygments_lexer": "ipython3",
   "version": "3.9.13"
  }
 },
 "nbformat": 4,
 "nbformat_minor": 1
}
